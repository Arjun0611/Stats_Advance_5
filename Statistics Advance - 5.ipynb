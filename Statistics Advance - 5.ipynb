{
 "cells": [
  {
   "cell_type": "code",
   "execution_count": 1,
   "id": "2d5a8c8a-1adf-4767-afbd-7c9fa263143f",
   "metadata": {},
   "outputs": [],
   "source": [
    "#Q1."
   ]
  },
  {
   "cell_type": "code",
   "execution_count": 2,
   "id": "3cf27db0-9c93-47e1-a66f-9adbbe3b345f",
   "metadata": {},
   "outputs": [],
   "source": [
    "import scipy.stats as stats"
   ]
  },
  {
   "cell_type": "code",
   "execution_count": 4,
   "id": "d0dd84f2-a0db-470b-883e-b520abe323ef",
   "metadata": {},
   "outputs": [],
   "source": [
    "sample_mean = 50\n",
    "sample_std_deviation = 5\n",
    "confidence_level = 0.95\n",
    "sample_size = 100 # Assumed since it is not provided"
   ]
  },
  {
   "cell_type": "code",
   "execution_count": 5,
   "id": "635b4f8c-2346-4db0-84a5-52c1742c58e5",
   "metadata": {},
   "outputs": [
    {
     "name": "stdout",
     "output_type": "stream",
     "text": [
      "95% Confidence Interval: (49.00789152424566, 50.99210847575434)\n"
     ]
    }
   ],
   "source": [
    "margin_of_error = stats.t.ppf((1 + confidence_level) / 2, df = sample_size - 1) * (sample_std_deviation / (sample_size ** 0.5))\n",
    "confidence_interval = (sample_mean - margin_of_error, sample_mean + margin_of_error)\n",
    "print(\"95% Confidence Interval:\", confidence_interval)"
   ]
  },
  {
   "cell_type": "code",
   "execution_count": 6,
   "id": "505f48a1-bb9f-47c2-9c1f-05e981b8c866",
   "metadata": {},
   "outputs": [],
   "source": [
    "#Q2."
   ]
  },
  {
   "cell_type": "code",
   "execution_count": 7,
   "id": "ce728de6-7d64-4e04-9b2b-0a829eedad5e",
   "metadata": {},
   "outputs": [],
   "source": [
    "observed_data = [18, 22, 19, 10, 11, 20] # Assumed the number of different colors M&M's in a bag since it is not given\n",
    "total_count = sum(observed_data)\n",
    "expected_proportions = [0.2, 0.2, 0.2, 0.1, 0.1, 0.2]\n",
    "expected_data = [prop * total_count for prop in expected_proportions]"
   ]
  },
  {
   "cell_type": "code",
   "execution_count": 8,
   "id": "92d8df5f-af35-483b-85b8-0ca1770fdb74",
   "metadata": {},
   "outputs": [],
   "source": [
    "chi_square_statistic, p_value = stats.chisquare(observed_data, expected_data)"
   ]
  },
  {
   "cell_type": "code",
   "execution_count": 9,
   "id": "383a7b54-a612-4a9a-8646-cb615ed1dceb",
   "metadata": {},
   "outputs": [
    {
     "name": "stdout",
     "output_type": "stream",
     "text": [
      "0.55\n",
      "0.9901779302598364\n"
     ]
    },
    {
     "data": {
      "text/plain": [
       "(None, None)"
      ]
     },
     "execution_count": 9,
     "metadata": {},
     "output_type": "execute_result"
    }
   ],
   "source": [
    "print(chi_square_statistic), print(p_value)"
   ]
  },
  {
   "cell_type": "code",
   "execution_count": 12,
   "id": "3b36b8a8-8dd5-46ad-bb77-6f2f47dc5ec5",
   "metadata": {},
   "outputs": [
    {
     "name": "stdout",
     "output_type": "stream",
     "text": [
      "11.070497693516351\n"
     ]
    }
   ],
   "source": [
    "# Find the critical value\n",
    "significance_value = 0.05\n",
    "dof = len(observed_data) - 1\n",
    "critical_value = stats.chi2.ppf(1-significance_value, dof)\n",
    "print(critical_value)"
   ]
  },
  {
   "cell_type": "code",
   "execution_count": 13,
   "id": "03b3f21a-1662-4a22-82fd-785cbd0b53e0",
   "metadata": {},
   "outputs": [
    {
     "name": "stdout",
     "output_type": "stream",
     "text": [
      "Fail to reject the null hypothesis: The distribution of colors matches the expected distribution.\n"
     ]
    }
   ],
   "source": [
    "if chi_square_statistic > critical_value:\n",
    "    print(\"Reject the null hypothesis: The distribution of colors does not match the expected distribution.\")\n",
    "else:\n",
    "    print(\"Fail to reject the null hypothesis: The distribution of colors matches the expected distribution.\")"
   ]
  },
  {
   "cell_type": "code",
   "execution_count": 14,
   "id": "01e4856a-343f-4940-9659-808b02a5149d",
   "metadata": {},
   "outputs": [],
   "source": [
    "#Q3.\n",
    "import numpy as np"
   ]
  },
  {
   "cell_type": "code",
   "execution_count": 21,
   "id": "ec6f3279-58e1-410a-b2bc-89524f6f102f",
   "metadata": {},
   "outputs": [],
   "source": [
    "observed_data = np.array([[20, 15], \n",
    "                          [10, 25], \n",
    "                          [15, 20]])"
   ]
  },
  {
   "cell_type": "code",
   "execution_count": 22,
   "id": "6cbb3b65-8fff-4bd6-b633-9494251ad6ef",
   "metadata": {},
   "outputs": [
    {
     "data": {
      "text/plain": [
       "array([[20, 15],\n",
       "       [10, 25],\n",
       "       [15, 20]])"
      ]
     },
     "execution_count": 22,
     "metadata": {},
     "output_type": "execute_result"
    }
   ],
   "source": [
    "observed_data"
   ]
  },
  {
   "cell_type": "code",
   "execution_count": 23,
   "id": "2256ca1c-4d23-4b49-8fce-f7f10607f6bf",
   "metadata": {},
   "outputs": [],
   "source": [
    "chi_square_statistic, p_value, dof, expected_data = stats.chi2_contingency(observed_data)"
   ]
  },
  {
   "cell_type": "code",
   "execution_count": 24,
   "id": "a89f3e22-568e-40a2-a8d0-d291e1c59392",
   "metadata": {},
   "outputs": [
    {
     "name": "stdout",
     "output_type": "stream",
     "text": [
      "Chi-square Statistic: 5.833333333333334\n",
      "P-value: 0.05411376622282158\n",
      "Degree of Freedom: 2\n",
      "Expected Data: [[15. 20.]\n",
      " [15. 20.]\n",
      " [15. 20.]]\n"
     ]
    }
   ],
   "source": [
    "print(f\"Chi-square Statistic: {chi_square_statistic}\")\n",
    "print(f\"P-value: {p_value}\")\n",
    "print(f\"Degree of Freedom: {dof}\")\n",
    "print(f\"Expected Data: {expected_data}\")"
   ]
  },
  {
   "cell_type": "code",
   "execution_count": 25,
   "id": "c925e0ca-a812-483e-8ae2-e8306204e44b",
   "metadata": {},
   "outputs": [],
   "source": [
    "#Q4."
   ]
  },
  {
   "cell_type": "code",
   "execution_count": 26,
   "id": "49c0def8-3539-4d66-b01f-4748be4cfff4",
   "metadata": {},
   "outputs": [
    {
     "name": "stdout",
     "output_type": "stream",
     "text": [
      "95% Confidence Interval: ( 0.09151638887130707,  0.1484836111286929)\n"
     ]
    }
   ],
   "source": [
    "n = 500\n",
    "x = 60 # Number of individuals who smoke in the sample size\n",
    "\n",
    "p_hat = x/n\n",
    "confidence_level = 0.95\n",
    "standard_error = np.sqrt((p_hat * (1 - p_hat)) / n)\n",
    "margin_of_error = stats.norm.ppf(1 - (1 - confidence_level) / 2) * standard_error\n",
    "\n",
    "lower_bound = p_hat - margin_of_error\n",
    "upper_bound = p_hat + margin_of_error\n",
    "\n",
    "print(f\"95% Confidence Interval: ({lower_bound: }, {upper_bound: })\")"
   ]
  },
  {
   "cell_type": "code",
   "execution_count": 28,
   "id": "fb5f04ae-6535-4813-b882-644bb04c9785",
   "metadata": {},
   "outputs": [],
   "source": [
    "#Q5."
   ]
  },
  {
   "cell_type": "code",
   "execution_count": 30,
   "id": "a6007cb1-6652-49f9-af64-9741c4f07e8b",
   "metadata": {},
   "outputs": [],
   "source": [
    "sample_mean = 75\n",
    "sample_standard_deviation = 12\n",
    "sample_size = 100 # Assumed since it is not given\n",
    "confidence_level = 0.90"
   ]
  },
  {
   "cell_type": "code",
   "execution_count": 31,
   "id": "09f883f5-baa7-4bfb-973b-331e3bf8cb32",
   "metadata": {},
   "outputs": [],
   "source": [
    "margin_of_error = stats.norm.ppf(1 - (1- confidence_level) / 2) * (sample_standard_deviation / np.sqrt(sample_size))"
   ]
  },
  {
   "cell_type": "code",
   "execution_count": 32,
   "id": "d020c14a-e6af-4269-9536-60f2a9038ca2",
   "metadata": {},
   "outputs": [
    {
     "name": "stdout",
     "output_type": "stream",
     "text": [
      "90% Confidence Interval: ( 73.02617564765823,  76.97382435234177)\n"
     ]
    }
   ],
   "source": [
    "lower_bound = sample_mean - margin_of_error\n",
    "upper_bound = sample_mean + margin_of_error\n",
    "print(f\"90% Confidence Interval: ({lower_bound: }, {upper_bound: })\")"
   ]
  },
  {
   "cell_type": "code",
   "execution_count": 33,
   "id": "ddb6670c-79fb-4d81-b112-29ec27d8392e",
   "metadata": {},
   "outputs": [],
   "source": [
    "#Q6."
   ]
  },
  {
   "cell_type": "code",
   "execution_count": 34,
   "id": "feb3b4cf-8f48-437b-85fa-a3030f2aeea8",
   "metadata": {},
   "outputs": [],
   "source": [
    "import matplotlib.pyplot as plt"
   ]
  },
  {
   "cell_type": "code",
   "execution_count": 35,
   "id": "93544446-e5bc-4ebf-966e-cee4a8644065",
   "metadata": {},
   "outputs": [],
   "source": [
    "dof = 10\n",
    "x = np.linspace(0, 30, 1000)"
   ]
  },
  {
   "cell_type": "code",
   "execution_count": 36,
   "id": "f0dcd9a5-90c5-4828-8699-d1d7bb1d79cd",
   "metadata": {},
   "outputs": [],
   "source": [
    "pdf = stats.chi2.pdf(x, dof)"
   ]
  },
  {
   "cell_type": "code",
   "execution_count": 38,
   "id": "301ebe6f-0174-4f38-947e-f0a55948b682",
   "metadata": {},
   "outputs": [
    {
     "data": {
      "image/png": "[encoded data removed]",
      "text/plain": [
       "<Figure size 640x480 with 1 Axes>"
      ]
     },
     "metadata": {},
     "output_type": "display_data"
    }
   ],
   "source": [
    "plt.plot(x, pdf, label = f'Chi-square ({dof} degrees of freedom)')\n",
    "x_shaded = np.linspace(15,30,1000)\n",
    "pdf_shaded = stats.chi2.pdf(x_shaded, dof)\n",
    "plt.fill_between(x_shaded, pdf_shaded, 0, alpha = 0.2, color='red', label='Shaded Area (Chi-square <15)')\n",
    "\n",
    "plt.xlabel('Chi-square Value')\n",
    "plt.ylabel('Probability Density')\n",
    "plt.legend()\n",
    "plt.title('Chi-square Distribution with Shaded Area')\n",
    "plt.grid(True)\n",
    "plt.show()"
   ]
  },
  {
   "cell_type": "code",
   "execution_count": 39,
   "id": "55b373af-69fa-4e90-974d-8f8fbffac9ca",
   "metadata": {},
   "outputs": [],
   "source": [
    "#Q7.\n",
    "\n",
    "sample_size = 1000\n",
    "x = 520 # Number of people who prefers Coke from the sample size\n",
    "confidence_level = 0.99"
   ]
  },
  {
   "cell_type": "code",
   "execution_count": 44,
   "id": "c3a07a56-bc5b-4faa-a1ee-89e9f95e6e33",
   "metadata": {},
   "outputs": [
    {
     "name": "stdout",
     "output_type": "stream",
     "text": [
      "0.52\n"
     ]
    }
   ],
   "source": [
    "p_hat = x / sample_size\n",
    "\n",
    "print(p_hat)\n",
    "\n",
    "standard_error = np.sqrt((p_hat * (1 - p_hat)) / sample_size)\n",
    "\n",
    "z_score = stats.norm.ppf((1 + confidence_level) / 2)"
   ]
  },
  {
   "cell_type": "code",
   "execution_count": 45,
   "id": "4cfb5b3b-4efc-4375-8f3b-278267ddabe6",
   "metadata": {},
   "outputs": [],
   "source": [
    "margin_of_error = z_score * standard_error"
   ]
  },
  {
   "cell_type": "code",
   "execution_count": 46,
   "id": "c61a6d25-bc19-4cb1-aaf2-a3ad153b9f2e",
   "metadata": {},
   "outputs": [
    {
     "name": "stdout",
     "output_type": "stream",
     "text": [
      "99% Confidence Interval: ( 0.4793051576779699,  0.5606948423220302)\n"
     ]
    }
   ],
   "source": [
    "lower_bound = p_hat - margin_of_error\n",
    "upper_bound = p_hat + margin_of_error\n",
    "print(f\"99% Confidence Interval: ({lower_bound: }, {upper_bound: })\")"
   ]
  },
  {
   "cell_type": "code",
   "execution_count": 47,
   "id": "15d8b1d6-a027-44b1-8b2b-173b20f764e1",
   "metadata": {},
   "outputs": [],
   "source": [
    "#Q8."
   ]
  },
  {
   "cell_type": "code",
   "execution_count": 49,
   "id": "ce6be241-96d1-49c9-9026-82eb8ac65c0e",
   "metadata": {},
   "outputs": [],
   "source": [
    "# Formulate Hypothesis\n",
    "# Null Hypothesis: The coin is fair (i.e. the observed frequencies match the expected frequencies.)\n",
    "# Alternative Hypothesis: The coin is biased towards tails\n",
    "\n",
    "# Here degrees of freedom can be concluded to df = 2 - 1 = 1. In this case, there are two categories (heads and tails)."
   ]
  },
  {
   "cell_type": "code",
   "execution_count": 50,
   "id": "86cb9c65-5415-468a-9a62-d05689c6e7aa",
   "metadata": {},
   "outputs": [],
   "source": [
    "observed_tails = 45\n",
    "observed_heads = 100 - observed_tails"
   ]
  },
  {
   "cell_type": "code",
   "execution_count": 52,
   "id": "508511c4-b562-4aaa-90b9-1f5cad917a39",
   "metadata": {},
   "outputs": [],
   "source": [
    "expected_tails = 50\n",
    "expected_heads = 50"
   ]
  },
  {
   "cell_type": "code",
   "execution_count": 53,
   "id": "19818a58-9866-4fc7-bbe7-94da25ccea1e",
   "metadata": {},
   "outputs": [],
   "source": [
    "chi_squared = ((observed_tails - expected_tails)**2 / expected_tails) + ((observed_heads - expected_heads)**2 / expected_heads)"
   ]
  },
  {
   "cell_type": "code",
   "execution_count": 54,
   "id": "78ff6b77-32b4-46b2-a698-3173c0f60cdd",
   "metadata": {},
   "outputs": [],
   "source": [
    "df = 1"
   ]
  },
  {
   "cell_type": "code",
   "execution_count": 55,
   "id": "28b7d3a8-1dcf-46c7-bedb-3820f5151f2c",
   "metadata": {},
   "outputs": [],
   "source": [
    "alpha = 0.05\n",
    "critical_chi_squared = stats.chi2.ppf(0.95, df)\n",
    "p_value = 1 - stats.chi2.cdf(chi_squared, df)"
   ]
  },
  {
   "cell_type": "code",
   "execution_count": 56,
   "id": "40a0ab19-4a34-46b4-b713-0c17218827de",
   "metadata": {},
   "outputs": [
    {
     "name": "stdout",
     "output_type": "stream",
     "text": [
      "Chi-Square Test Statistic: 1.0\n",
      "Critical Chi-Square Value: 3.841458820694124\n",
      "P-Value: 0.31731050786291415\n"
     ]
    }
   ],
   "source": [
    "print(f\"Chi-Square Test Statistic: {chi_squared}\")\n",
    "print(f\"Critical Chi-Square Value: {critical_chi_squared}\")\n",
    "print(f\"P-Value: {p_value}\")"
   ]
  },
  {
   "cell_type": "code",
   "execution_count": 57,
   "id": "18610e24-61f7-4dab-87f5-b05c8566336c",
   "metadata": {},
   "outputs": [
    {
     "name": "stdout",
     "output_type": "stream",
     "text": [
      "Fail to reject the null hypothesis: The coin is fair.\n"
     ]
    }
   ],
   "source": [
    "if chi_squared > critical_chi_squared:\n",
    "    print(\"Reject the null hypothesis: The coin is biased towards tails.\")\n",
    "else:\n",
    "    print(\"Fail to reject the null hypothesis: The coin is fair.\")"
   ]
  },
  {
   "cell_type": "code",
   "execution_count": 1,
   "id": "59f823cd-8191-4fc3-b90e-0c5ea301c503",
   "metadata": {},
   "outputs": [],
   "source": [
    "#Q9."
   ]
  },
  {
   "cell_type": "code",
   "execution_count": 2,
   "id": "5d69c26a-b9e9-46f5-b033-32e5fa2e39cd",
   "metadata": {},
   "outputs": [],
   "source": [
    "import scipy.stats as stats"
   ]
  },
  {
   "cell_type": "code",
   "execution_count": 3,
   "id": "0ecae63a-60d0-4707-9ab5-7d8c6e903b8a",
   "metadata": {},
   "outputs": [],
   "source": [
    "# Contingency Table\n",
    "observed = [[60, 140], [30, 170]]"
   ]
  },
  {
   "cell_type": "code",
   "execution_count": 12,
   "id": "b9be34b5-dc44-4085-87a6-e922c234055e",
   "metadata": {},
   "outputs": [],
   "source": [
    "chi2, p_value, _, _ = stats.chi2_contingency(observed)"
   ]
  },
  {
   "cell_type": "code",
   "execution_count": 13,
   "id": "0bd38216-3bc7-4a7c-af73-94867f2e1a53",
   "metadata": {},
   "outputs": [],
   "source": [
    "alpha = 0.05 # Given"
   ]
  },
  {
   "cell_type": "code",
   "execution_count": 14,
   "id": "7c325b5b-1029-4ddb-9f7d-e6dd76906542",
   "metadata": {},
   "outputs": [
    {
     "name": "stdout",
     "output_type": "stream",
     "text": [
      "Chi-square Statistic: 12.057347670250895\n",
      "P-value: 0.0005158863863703744\n"
     ]
    }
   ],
   "source": [
    "print(f\"Chi-square Statistic: {chi2}\")\n",
    "print(f\"P-value: {p_value}\")"
   ]
  },
  {
   "cell_type": "code",
   "execution_count": 15,
   "id": "1597caa7-c50d-4d09-9d18-21d35deb9545",
   "metadata": {},
   "outputs": [
    {
     "name": "stdout",
     "output_type": "stream",
     "text": [
      "There is a significant association between smoking status and lung cancer diagnosis.\n"
     ]
    }
   ],
   "source": [
    "if p < alpha:\n",
    "    print(\"There is a significant association between smoking status and lung cancer diagnosis.\")\n",
    "else:\n",
    "        print(\"There is no significant association between smoking status and lung cancer diagnosis.\")"
   ]
  },
  {
   "cell_type": "code",
   "execution_count": 16,
   "id": "d94dd60e-9189-4727-ae59-a3beabda365b",
   "metadata": {},
   "outputs": [],
   "source": [
    "#Q10."
   ]
  },
  {
   "cell_type": "code",
   "execution_count": 19,
   "id": "cbebe328-7c34-4f00-bd3a-7e6de56a46cf",
   "metadata": {},
   "outputs": [],
   "source": [
    "observed_data = [[200, 150, 150],\n",
    "                 [225, 175, 100]]\n",
    "\n",
    "chi2, p_value, _, _ = stats.chi2_contingency(observed_data)"
   ]
  },
  {
   "cell_type": "code",
   "execution_count": 20,
   "id": "ae11fc62-c8f4-425d-a014-f1fa62515ecb",
   "metadata": {},
   "outputs": [],
   "source": [
    "alpha = 0.01"
   ]
  },
  {
   "cell_type": "code",
   "execution_count": 21,
   "id": "6d08e5e1-9369-4d66-b578-029b44bdefe6",
   "metadata": {},
   "outputs": [
    {
     "name": "stdout",
     "output_type": "stream",
     "text": [
      "Chi-square Statistic: 13.393665158371041\n",
      "P-value: 0.0012348168997745918\n"
     ]
    }
   ],
   "source": [
    "print(f\"Chi-square Statistic: {chi2}\")\n",
    "print(f\"P-value: {p_value}\")"
   ]
  },
  {
   "cell_type": "code",
   "execution_count": 22,
   "id": "f833c1bd-4e4e-427f-8917-05468e3cf688",
   "metadata": {},
   "outputs": [
    {
     "name": "stdout",
     "output_type": "stream",
     "text": [
      "There is a significant association between chocolate preference and country of origin.\n"
     ]
    }
   ],
   "source": [
    "if p < alpha:\n",
    "    print(\"There is a significant association between chocolate preference and country of origin.\")\n",
    "else:\n",
    "    print(\"There is no significant association between chocolate preference and country of origin.\")"
   ]
  },
  {
   "cell_type": "code",
   "execution_count": 23,
   "id": "a91e4f11-1272-4c07-97d5-aa452ffa058a",
   "metadata": {},
   "outputs": [],
   "source": [
    "#Q11."
   ]
  },
  {
   "cell_type": "code",
   "execution_count": 24,
   "id": "f25583fd-8fd5-4a5a-b212-aedffa2608e9",
   "metadata": {},
   "outputs": [],
   "source": [
    "# The null hypothesis is that the population mean is equal to 70.\n",
    "# The alternative hypothesis is that the population mean is not equal to 70."
   ]
  },
  {
   "cell_type": "code",
   "execution_count": 25,
   "id": "7b6828e7-8621-438c-a9b5-4bc6ae876331",
   "metadata": {},
   "outputs": [],
   "source": [
    "# Given Data\n",
    "sample_mean = 72\n",
    "sample_std = 10\n",
    "alpha = 0.05\n",
    "sample_size = 30\n",
    "population_mean = 70"
   ]
  },
  {
   "cell_type": "code",
   "execution_count": 26,
   "id": "a7c8b929-74af-426c-938d-db38830ae58b",
   "metadata": {},
   "outputs": [],
   "source": [
    "# Calculate the t-statistic\n",
    "\n",
    "t_statistic = (sample_mean - population_mean) / (sample_std / (sample_size ** 0.5))"
   ]
  },
  {
   "cell_type": "code",
   "execution_count": 27,
   "id": "d28b82d3-4d50-4479-9d94-c74d750164d2",
   "metadata": {},
   "outputs": [],
   "source": [
    "df = sample_size - 1"
   ]
  },
  {
   "cell_type": "code",
   "execution_count": 29,
   "id": "aa0bc8f8-2fd0-43d2-a5c4-81e62206045c",
   "metadata": {},
   "outputs": [],
   "source": [
    "t_critical = stats.t.ppf(1 - alpha / 2, df) #Two-tailed test"
   ]
  },
  {
   "cell_type": "code",
   "execution_count": 30,
   "id": "59e955ed-eb2c-4973-bdd6-dd217aa32c2f",
   "metadata": {},
   "outputs": [
    {
     "name": "stdout",
     "output_type": "stream",
     "text": [
      "t-statistic: 1.0954\n",
      "t-critical value: 2.0452\n"
     ]
    }
   ],
   "source": [
    "# Interpretation\n",
    "print(f\"t-statistic: {t_statistic:.4f}\")\n",
    "print(f\"t-critical value: {t_critical:.4f}\")"
   ]
  },
  {
   "cell_type": "code",
   "execution_count": 31,
   "id": "430b51b8-95a5-43f5-8f14-787b7b9fcefb",
   "metadata": {},
   "outputs": [
    {
     "name": "stdout",
     "output_type": "stream",
     "text": [
      "Fail to reject the null hypothesis: There is not enough evidence to conclude a significant difference.\n"
     ]
    }
   ],
   "source": [
    "# Compare t-statistic to t-critical value\n",
    "if abs(t_statistic) > t_critical:\n",
    "    print(\"Reject the null hypothesis: The population mean is significantly different from 70.\")\n",
    "else:\n",
    "    print(\"Fail to reject the null hypothesis: There is not enough evidence to conclude a significant difference.\")"
   ]
  },
  {
   "cell_type": "code",
   "execution_count": 32,
   "id": "ff9be084-879d-4a1d-a42a-697d993d5640",
   "metadata": {},
   "outputs": [],
   "source": [
    "# End"
   ]
  },
  {
   "cell_type": "code",
   "execution_count": 33,
   "id": "279440b2-23f2-4d1f-9821-9298c1435038",
   "metadata": {},
   "outputs": [],
   "source": [
    "# End"
   ]
  },
  {
   "cell_type": "code",
   "execution_count": 34,
   "id": "bb6e8717-a2e7-485f-9504-c122516e3bb5",
   "metadata": {},
   "outputs": [],
   "source": [
    "# End"
   ]
  },
  {
   "cell_type": "code",
   "execution_count": null,
   "id": "31feb52c-6813-43f0-8413-b636d0537338",
   "metadata": {},
   "outputs": [],
   "source": []
  }
 ],
 "metadata": {
  "kernelspec": {
   "display_name": "Python 3 (ipykernel)",
   "language": "python",
   "name": "python3"
  },
  "language_info": {
   "codemirror_mode": {
    "name": "ipython",
    "version": 3
   },
   "file_extension": ".py",
   "mimetype": "text/x-python",
   "name": "python",
   "nbconvert_exporter": "python",
   "pygments_lexer": "ipython3",
   "version": "3.10.8"
  }
 },
 "nbformat": 4,
 "nbformat_minor": 5
}
